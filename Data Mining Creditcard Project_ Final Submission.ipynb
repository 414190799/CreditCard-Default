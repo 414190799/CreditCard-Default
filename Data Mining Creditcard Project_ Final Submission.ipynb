{
 "cells": [
  {
   "cell_type": "markdown",
   "metadata": {},
   "source": [
    "## Data Mining Final Project_Final Code Submission"
   ]
  },
  {
   "cell_type": "markdown",
   "metadata": {},
   "source": [
    "#### Team Members: Jaijun Bao; Mingjun Gao; Linda Han, Puhan Li"
   ]
  },
  {
   "cell_type": "code",
   "execution_count": 1,
   "metadata": {},
   "outputs": [],
   "source": [
    "import pandas as pd\n",
    "from info_gain import info_gain\n",
    "import seaborn as sns \n",
    "import matplotlib.pyplot as plt\n",
    "%matplotlib inline\n",
    "import numpy as np\n",
    "from sklearn.model_selection import train_test_split\n",
    "from sklearn import metrics\n",
    "from sklearn.ensemble import RandomForestClassifier\n",
    "from sklearn.linear_model import LogisticRegression\n",
    "from sklearn.naive_bayes import BernoulliNB\n",
    "from sklearn.tree import DecisionTreeClassifier\n",
    "from sklearn.neural_network import MLPClassifier\n",
    "from sklearn.metrics import precision_recall_curve\n",
    "from sklearn.metrics import confusion_matrix\n",
    "import warnings\n",
    "warnings.filterwarnings('ignore')"
   ]
  },
  {
   "cell_type": "markdown",
   "metadata": {},
   "source": [
    "### Import data"
   ]
  },
  {
   "cell_type": "code",
   "execution_count": 2,
   "metadata": {},
   "outputs": [
    {
     "data": {
      "text/plain": [
       "(30000, 25)"
      ]
     },
     "execution_count": 2,
     "metadata": {},
     "output_type": "execute_result"
    }
   ],
   "source": [
    "df = pd.read_csv('UCI_Credit_Card.csv')\n",
    "df.shape"
   ]
  },
  {
   "cell_type": "code",
   "execution_count": 3,
   "metadata": {
    "scrolled": true
   },
   "outputs": [],
   "source": [
    "for i in range(1,7):\n",
    "    df['PAY_AMT'+str(i)]=df['PAY_AMT'+str(i)]/df['LIMIT_BAL']\n",
    "    df['BILL_AMT'+str(i)]=df['BILL_AMT'+str(i)]/df['LIMIT_BAL']"
   ]
  },
  {
   "cell_type": "code",
   "execution_count": 4,
   "metadata": {},
   "outputs": [
    {
     "data": {
      "text/html": [
       "<div>\n",
       "<style scoped>\n",
       "    .dataframe tbody tr th:only-of-type {\n",
       "        vertical-align: middle;\n",
       "    }\n",
       "\n",
       "    .dataframe tbody tr th {\n",
       "        vertical-align: top;\n",
       "    }\n",
       "\n",
       "    .dataframe thead th {\n",
       "        text-align: right;\n",
       "    }\n",
       "</style>\n",
       "<table border=\"1\" class=\"dataframe\">\n",
       "  <thead>\n",
       "    <tr style=\"text-align: right;\">\n",
       "      <th></th>\n",
       "      <th>ID</th>\n",
       "      <th>LIMIT_BAL</th>\n",
       "      <th>SEX</th>\n",
       "      <th>EDUCATION</th>\n",
       "      <th>MARRIAGE</th>\n",
       "      <th>AGE</th>\n",
       "      <th>PAY_0</th>\n",
       "      <th>PAY_2</th>\n",
       "      <th>PAY_3</th>\n",
       "      <th>PAY_4</th>\n",
       "      <th>...</th>\n",
       "      <th>BILL_AMT4</th>\n",
       "      <th>BILL_AMT5</th>\n",
       "      <th>BILL_AMT6</th>\n",
       "      <th>PAY_AMT1</th>\n",
       "      <th>PAY_AMT2</th>\n",
       "      <th>PAY_AMT3</th>\n",
       "      <th>PAY_AMT4</th>\n",
       "      <th>PAY_AMT5</th>\n",
       "      <th>PAY_AMT6</th>\n",
       "      <th>default.payment.next.month</th>\n",
       "    </tr>\n",
       "  </thead>\n",
       "  <tbody>\n",
       "    <tr>\n",
       "      <th>0</th>\n",
       "      <td>1</td>\n",
       "      <td>20000.0</td>\n",
       "      <td>2</td>\n",
       "      <td>2</td>\n",
       "      <td>1</td>\n",
       "      <td>24</td>\n",
       "      <td>2</td>\n",
       "      <td>2</td>\n",
       "      <td>-1</td>\n",
       "      <td>-1</td>\n",
       "      <td>...</td>\n",
       "      <td>0.000000</td>\n",
       "      <td>0.000000</td>\n",
       "      <td>0.000000</td>\n",
       "      <td>0.000000</td>\n",
       "      <td>0.034450</td>\n",
       "      <td>0.000000</td>\n",
       "      <td>0.000000</td>\n",
       "      <td>0.000000</td>\n",
       "      <td>0.000000</td>\n",
       "      <td>1</td>\n",
       "    </tr>\n",
       "    <tr>\n",
       "      <th>1</th>\n",
       "      <td>2</td>\n",
       "      <td>120000.0</td>\n",
       "      <td>2</td>\n",
       "      <td>2</td>\n",
       "      <td>2</td>\n",
       "      <td>26</td>\n",
       "      <td>-1</td>\n",
       "      <td>2</td>\n",
       "      <td>0</td>\n",
       "      <td>0</td>\n",
       "      <td>...</td>\n",
       "      <td>0.027267</td>\n",
       "      <td>0.028792</td>\n",
       "      <td>0.027175</td>\n",
       "      <td>0.000000</td>\n",
       "      <td>0.008333</td>\n",
       "      <td>0.008333</td>\n",
       "      <td>0.008333</td>\n",
       "      <td>0.000000</td>\n",
       "      <td>0.016667</td>\n",
       "      <td>1</td>\n",
       "    </tr>\n",
       "    <tr>\n",
       "      <th>2</th>\n",
       "      <td>3</td>\n",
       "      <td>90000.0</td>\n",
       "      <td>2</td>\n",
       "      <td>2</td>\n",
       "      <td>2</td>\n",
       "      <td>34</td>\n",
       "      <td>0</td>\n",
       "      <td>0</td>\n",
       "      <td>0</td>\n",
       "      <td>0</td>\n",
       "      <td>...</td>\n",
       "      <td>0.159233</td>\n",
       "      <td>0.166089</td>\n",
       "      <td>0.172767</td>\n",
       "      <td>0.016867</td>\n",
       "      <td>0.016667</td>\n",
       "      <td>0.011111</td>\n",
       "      <td>0.011111</td>\n",
       "      <td>0.011111</td>\n",
       "      <td>0.055556</td>\n",
       "      <td>0</td>\n",
       "    </tr>\n",
       "    <tr>\n",
       "      <th>3</th>\n",
       "      <td>4</td>\n",
       "      <td>50000.0</td>\n",
       "      <td>2</td>\n",
       "      <td>2</td>\n",
       "      <td>1</td>\n",
       "      <td>37</td>\n",
       "      <td>0</td>\n",
       "      <td>0</td>\n",
       "      <td>0</td>\n",
       "      <td>0</td>\n",
       "      <td>...</td>\n",
       "      <td>0.566280</td>\n",
       "      <td>0.579180</td>\n",
       "      <td>0.590940</td>\n",
       "      <td>0.040000</td>\n",
       "      <td>0.040380</td>\n",
       "      <td>0.024000</td>\n",
       "      <td>0.022000</td>\n",
       "      <td>0.021380</td>\n",
       "      <td>0.020000</td>\n",
       "      <td>0</td>\n",
       "    </tr>\n",
       "    <tr>\n",
       "      <th>4</th>\n",
       "      <td>5</td>\n",
       "      <td>50000.0</td>\n",
       "      <td>1</td>\n",
       "      <td>2</td>\n",
       "      <td>1</td>\n",
       "      <td>57</td>\n",
       "      <td>-1</td>\n",
       "      <td>0</td>\n",
       "      <td>-1</td>\n",
       "      <td>0</td>\n",
       "      <td>...</td>\n",
       "      <td>0.418800</td>\n",
       "      <td>0.382920</td>\n",
       "      <td>0.382620</td>\n",
       "      <td>0.040000</td>\n",
       "      <td>0.733620</td>\n",
       "      <td>0.200000</td>\n",
       "      <td>0.180000</td>\n",
       "      <td>0.013780</td>\n",
       "      <td>0.013580</td>\n",
       "      <td>0</td>\n",
       "    </tr>\n",
       "  </tbody>\n",
       "</table>\n",
       "<p>5 rows × 25 columns</p>\n",
       "</div>"
      ],
      "text/plain": [
       "   ID  LIMIT_BAL  SEX  EDUCATION  MARRIAGE  AGE  PAY_0  PAY_2  PAY_3  PAY_4  \\\n",
       "0   1    20000.0    2          2         1   24      2      2     -1     -1   \n",
       "1   2   120000.0    2          2         2   26     -1      2      0      0   \n",
       "2   3    90000.0    2          2         2   34      0      0      0      0   \n",
       "3   4    50000.0    2          2         1   37      0      0      0      0   \n",
       "4   5    50000.0    1          2         1   57     -1      0     -1      0   \n",
       "\n",
       "   ...  BILL_AMT4  BILL_AMT5  BILL_AMT6  PAY_AMT1  PAY_AMT2  PAY_AMT3  \\\n",
       "0  ...   0.000000   0.000000   0.000000  0.000000  0.034450  0.000000   \n",
       "1  ...   0.027267   0.028792   0.027175  0.000000  0.008333  0.008333   \n",
       "2  ...   0.159233   0.166089   0.172767  0.016867  0.016667  0.011111   \n",
       "3  ...   0.566280   0.579180   0.590940  0.040000  0.040380  0.024000   \n",
       "4  ...   0.418800   0.382920   0.382620  0.040000  0.733620  0.200000   \n",
       "\n",
       "   PAY_AMT4  PAY_AMT5  PAY_AMT6  default.payment.next.month  \n",
       "0  0.000000  0.000000  0.000000                           1  \n",
       "1  0.008333  0.000000  0.016667                           1  \n",
       "2  0.011111  0.011111  0.055556                           0  \n",
       "3  0.022000  0.021380  0.020000                           0  \n",
       "4  0.180000  0.013780  0.013580                           0  \n",
       "\n",
       "[5 rows x 25 columns]"
      ]
     },
     "execution_count": 4,
     "metadata": {},
     "output_type": "execute_result"
    }
   ],
   "source": [
    "df.head()"
   ]
  },
  {
   "cell_type": "markdown",
   "metadata": {},
   "source": [
    "### Feature Importance"
   ]
  },
  {
   "cell_type": "code",
   "execution_count": 5,
   "metadata": {},
   "outputs": [
    {
     "name": "stdout",
     "output_type": "stream",
     "text": [
      "ID:   0.5284225707356818\n",
      "LIMIT_BAL:   0.016864653596992074\n",
      "SEX:   0.0007930447147915798\n",
      "EDUCATION:   0.003078467015979136\n",
      "MARRIAGE:   0.0006101529703606001\n",
      "AGE:   0.0025666495414591317\n",
      "PAY_0:   0.07605263493485959\n",
      "PAY_2:   0.04905609321582127\n",
      "PAY_3:   0.03727810247043006\n",
      "PAY_4:   0.03288779570614908\n",
      "PAY_5:   0.030543599627198104\n",
      "PAY_6:   0.02642224377868696\n",
      "BILL_AMT1:   0.4451071195510714\n",
      "BILL_AMT2:   0.43950636681299393\n",
      "BILL_AMT3:   0.4335877900700478\n",
      "BILL_AMT4:   0.42812566555052456\n",
      "BILL_AMT5:   0.42078030680929857\n",
      "BILL_AMT6:   0.41501091254473543\n",
      "PAY_AMT1:   0.21924904965179515\n",
      "PAY_AMT2:   0.21628197896200607\n",
      "PAY_AMT3:   0.20321699964666085\n",
      "PAY_AMT4:   0.19102139670512397\n",
      "PAY_AMT5:   0.1896784778685321\n",
      "PAY_AMT6:   0.18711271777759464\n",
      "default.payment.next.month:   0.5284225707356826\n"
     ]
    }
   ],
   "source": [
    "data=df\n",
    "for feature in data.columns.values.tolist():\n",
    "    ig  = info_gain.info_gain(data[feature], data['default.payment.next.month'])\n",
    "    print(feature+\":  \",ig)"
   ]
  },
  {
   "cell_type": "code",
   "execution_count": 6,
   "metadata": {},
   "outputs": [
    {
     "data": {
      "text/plain": [
       "<matplotlib.axes._subplots.AxesSubplot at 0x111811588>"
      ]
     },
     "execution_count": 6,
     "metadata": {},
     "output_type": "execute_result"
    },
    {
     "data": {
      "image/png": "[encoded data removed]",
      "text/plain": [
       "<Figure size 648x576 with 2 Axes>"
      ]
     },
     "metadata": {
      "needs_background": "light"
     },
     "output_type": "display_data"
    }
   ],
   "source": [
    "corrmat = data.corr() \n",
    "f, ax = plt.subplots(figsize =(9, 8)) \n",
    "sns.heatmap(corrmat, ax = ax, cmap =\"YlGnBu\", linewidths = 0.1) "
   ]
  },
  {
   "cell_type": "markdown",
   "metadata": {},
   "source": [
    "### Model Training Data Prep"
   ]
  },
  {
   "cell_type": "code",
   "execution_count": 7,
   "metadata": {},
   "outputs": [],
   "source": [
    "positive=df.loc[df['default.payment.next.month'] == 1]\n",
    "negative=df.loc[df['default.payment.next.month'] == 0]\n",
    "positive=positive.sample(n=5000, random_state=1 )\n",
    "negative=negative.sample(n=5000, random_state=1 )\n",
    "df=pd.concat([positive,negative])\n",
    "X=df.iloc[:,1:24]\n",
    "Y=df['default.payment.next.month']\n",
    "X_train, X_test, y_train, y_test = train_test_split(X, Y, test_size=0.3, random_state=42)\n",
    "X_train_valid, X_test_valid, y_train_valid, y_test_valid = train_test_split(X_train, y_train, test_size=0.3, random_state=49)"
   ]
  },
  {
   "cell_type": "code",
   "execution_count": 8,
   "metadata": {},
   "outputs": [
    {
     "data": {
      "text/plain": [
       "Index(['LIMIT_BAL', 'SEX', 'EDUCATION', 'MARRIAGE', 'AGE', 'PAY_0', 'PAY_2',\n",
       "       'PAY_3', 'PAY_4', 'PAY_5', 'PAY_6', 'BILL_AMT1', 'BILL_AMT2',\n",
       "       'BILL_AMT3', 'BILL_AMT4', 'BILL_AMT5', 'BILL_AMT6', 'PAY_AMT1',\n",
       "       'PAY_AMT2', 'PAY_AMT3', 'PAY_AMT4', 'PAY_AMT5', 'PAY_AMT6'],\n",
       "      dtype='object')"
      ]
     },
     "execution_count": 8,
     "metadata": {},
     "output_type": "execute_result"
    }
   ],
   "source": [
    "X_train.columns"
   ]
  },
  {
   "cell_type": "code",
   "execution_count": 9,
   "metadata": {},
   "outputs": [
    {
     "name": "stdout",
     "output_type": "stream",
     "text": [
      "(4900, 23)\n",
      "(2100, 23)\n",
      "(3000, 23)\n"
     ]
    }
   ],
   "source": [
    "print(X_train_valid.shape)\n",
    "print(X_test_valid.shape)\n",
    "print(X_test.shape)"
   ]
  },
  {
   "cell_type": "markdown",
   "metadata": {},
   "source": [
    "### Model Trainig - Random Forest"
   ]
  },
  {
   "cell_type": "markdown",
   "metadata": {},
   "source": [
    "Random Forest Model has been tuned for some basic parameters:\n",
    "- Increase the n_estimators which means increasing the number of trees\n",
    "- Add the max_depth =10 in order to avoid overfitting in the training set\n",
    "- Set min_samples_leaf=10 to smooth the model."
   ]
  },
  {
   "cell_type": "code",
   "execution_count": 10,
   "metadata": {},
   "outputs": [
    {
     "name": "stdout",
     "output_type": "stream",
     "text": [
      "Training Validation set auc: 0.7809733550053696\n"
     ]
    }
   ],
   "source": [
    "rf = RandomForestClassifier(n_estimators = 2000, max_depth=10, min_samples_leaf=10)\n",
    "rf.fit(X_train_valid, y_train_valid)\n",
    "rf_predictions = rf.predict(X_test_valid)\n",
    "rf_probs = rf.predict_proba(X_test_valid)[:, 1]\n",
    "fpr, tpr, _ = metrics.roc_curve(y_test_valid, rf_probs)\n",
    "auc = metrics.auc(fpr, tpr)\n",
    "print(\"Training Validation set auc:\", auc)"
   ]
  },
  {
   "cell_type": "code",
   "execution_count": 11,
   "metadata": {},
   "outputs": [
    {
     "name": "stdout",
     "output_type": "stream",
     "text": [
      "Test set auc: 0.7814009946496334\n"
     ]
    }
   ],
   "source": [
    "rf = RandomForestClassifier(n_estimators = 2000, max_depth=10, min_samples_leaf=10)\n",
    "rf.fit(X_train, y_train)\n",
    "rf_predictions = rf.predict(X_test)\n",
    "rf_probs = rf.predict_proba(X_test)[:, 1]\n",
    "fpr, tpr, _ = metrics.roc_curve(y_test, rf_probs)\n",
    "auc = metrics.auc(fpr, tpr)\n",
    "print(\"Test set auc:\", auc)"
   ]
  },
  {
   "cell_type": "markdown",
   "metadata": {},
   "source": [
    "### Model Training - Other Models "
   ]
  },
  {
   "cell_type": "code",
   "execution_count": 12,
   "metadata": {},
   "outputs": [],
   "source": [
    "lr=LogisticRegression().fit(X_train_valid, y_train_valid)\n",
    "bern=BernoulliNB().fit(X_train_valid, y_train_valid)\n",
    "dt=DecisionTreeClassifier(random_state=0).fit(X_train_valid, y_train_valid)\n",
    "nn = MLPClassifier(solver='adam', alpha=1e-5, random_state=2).fit(X_train_valid, y_train_valid)\n",
    "rf = RandomForestClassifier(n_estimators = 2000, max_depth=10, min_samples_leaf=10).fit(X_train_valid, y_train_valid)"
   ]
  },
  {
   "cell_type": "markdown",
   "metadata": {},
   "source": [
    "### AUC Calculation and Visulization"
   ]
  },
  {
   "cell_type": "code",
   "execution_count": 13,
   "metadata": {},
   "outputs": [],
   "source": [
    "def cal_auc(model,X_test,y_test):\n",
    "    probs = model.predict_proba(X_test)[:, 1]\n",
    "    fpr, tpr, _ = metrics.roc_curve(y_test, probs)\n",
    "    auc = metrics.auc(fpr, tpr)\n",
    "    print(auc)\n",
    "    return auc"
   ]
  },
  {
   "cell_type": "code",
   "execution_count": 14,
   "metadata": {},
   "outputs": [
    {
     "name": "stdout",
     "output_type": "stream",
     "text": [
      "0.6301610164572026\n",
      "0.728363186805213\n",
      "0.6167242330130903\n",
      "0.5853064319507736\n",
      "0.780479022146112\n"
     ]
    },
    {
     "data": {
      "text/plain": [
       "0.780479022146112"
      ]
     },
     "execution_count": 14,
     "metadata": {},
     "output_type": "execute_result"
    }
   ],
   "source": [
    "cal_auc(lr, X_test_valid,y_test_valid)\n",
    "cal_auc(bern, X_test_valid,y_test_valid)\n",
    "cal_auc(dt, X_test_valid,y_test_valid)\n",
    "cal_auc(nn, X_test_valid,y_test_valid)\n",
    "cal_auc(rf, X_test_valid,y_test_valid)"
   ]
  },
  {
   "cell_type": "code",
   "execution_count": 15,
   "metadata": {},
   "outputs": [
    {
     "name": "stdout",
     "output_type": "stream",
     "text": [
      "0.6242996294189664\n",
      "0.7376230248537888\n",
      "0.6151594014313597\n",
      "0.5795510690726936\n",
      "0.779808914846411\n"
     ]
    },
    {
     "data": {
      "text/plain": [
       "0.779808914846411"
      ]
     },
     "execution_count": 15,
     "metadata": {},
     "output_type": "execute_result"
    }
   ],
   "source": [
    "cal_auc(lr, X_test,y_test)\n",
    "cal_auc(bern, X_test,y_test)\n",
    "cal_auc(dt, X_test,y_test)\n",
    "cal_auc(nn, X_test,y_test)\n",
    "cal_auc(rf, X_test,y_test)"
   ]
  },
  {
   "cell_type": "code",
   "execution_count": 16,
   "metadata": {},
   "outputs": [],
   "source": [
    "fpr,tpr,thresholds=metrics.roc_curve(y_test,lr.predict_proba(X_test)[:,1])\n",
    "fpr1,tpr1,thresholds1=metrics.roc_curve(y_test,bern.predict_proba(X_test)[:,1])\n",
    "fpr2,tpr2,thresholds2=metrics.roc_curve(y_test,dt.predict_proba(X_test)[:,1])\n",
    "fpr3,tpr3,thresholds3=metrics.roc_curve(y_test,nn.predict_proba(X_test)[:,1])\n",
    "fpr4,tpr4,thresholds4=metrics.roc_curve(y_test,rf.predict_proba(X_test)[:,1])"
   ]
  },
  {
   "cell_type": "code",
   "execution_count": 17,
   "metadata": {},
   "outputs": [
    {
     "data": {
      "image/png": "[encoded data removed]",
      "text/plain": [
       "<Figure size 432x288 with 1 Axes>"
      ]
     },
     "metadata": {
      "needs_background": "light"
     },
     "output_type": "display_data"
    }
   ],
   "source": [
    "plt.title(\"AUC Curve\")\n",
    "plt.rcParams['figure.figsize'] = 4, 4\n",
    "plt.plot(fpr,tpr,color='r',label=\"Logistic Regression\")\n",
    "plt.plot(fpr1,tpr1,label='Naive Bayes')\n",
    "plt.plot(fpr2,tpr2,label='Decision Tree')\n",
    "plt.plot(fpr3,tpr3,label='MLP')\n",
    "plt.plot(fpr4,tpr4,color ='black',label='Random Forest')\n",
    "plt.plot([0,1],[0,1],'k--')\n",
    "plt.legend(loc='best')\n",
    "plt.show()"
   ]
  },
  {
   "cell_type": "markdown",
   "metadata": {},
   "source": [
    "### Precision-Recall vs Threshold"
   ]
  },
  {
   "cell_type": "code",
   "execution_count": 18,
   "metadata": {},
   "outputs": [],
   "source": [
    "rf_pred_valid=rf.predict(X_test_valid)\n",
    "probs_y_valid=rf.predict_proba(X_test_valid)"
   ]
  },
  {
   "cell_type": "code",
   "execution_count": 19,
   "metadata": {
    "scrolled": false
   },
   "outputs": [
    {
     "data": {
      "text/plain": [
       "(0, 1)"
      ]
     },
     "execution_count": 19,
     "metadata": {},
     "output_type": "execute_result"
    },
    {
     "data": {
      "image/png": "[encoded data removed]",
      "text/plain": [
       "<Figure size 288x288 with 1 Axes>"
      ]
     },
     "metadata": {
      "needs_background": "light"
     },
     "output_type": "display_data"
    }
   ],
   "source": [
    "precision, recall, thresholds = precision_recall_curve(y_test_valid, probs_y_valid[:, 1]) \n",
    "pr_auc = metrics.auc(recall, precision)\n",
    "\n",
    "plt.title(\"Precision-Recall vs Threshold Chart\")\n",
    "plt.rcParams['figure.figsize'] = 8, 8\n",
    "plt.plot(thresholds, precision[: -1], \"b--\", label='Precision')\n",
    "plt.plot(thresholds, recall[: -1], \"r--\", label=\"Recall\")\n",
    "plt.ylabel(\"Precision, Recall\")\n",
    "plt.xlabel(\"Threshold\")\n",
    "plt.legend(loc=\"lower left\")\n",
    "plt.ylim([0,1])"
   ]
  },
  {
   "cell_type": "markdown",
   "metadata": {},
   "source": [
    "### Prediction"
   ]
  },
  {
   "cell_type": "code",
   "execution_count": 20,
   "metadata": {},
   "outputs": [
    {
     "data": {
      "text/plain": [
       "array([[1189,  274],\n",
       "       [ 578,  959]])"
      ]
     },
     "execution_count": 20,
     "metadata": {},
     "output_type": "execute_result"
    }
   ],
   "source": [
    "rf_pred_test=rf.predict(X_test)\n",
    "confusion_matrix(y_test, rf_pred_test)"
   ]
  },
  {
   "cell_type": "code",
   "execution_count": 21,
   "metadata": {},
   "outputs": [],
   "source": [
    "rf_pred_prob_test = rf.predict_proba(X_test)"
   ]
  },
  {
   "cell_type": "code",
   "execution_count": 22,
   "metadata": {},
   "outputs": [],
   "source": [
    "prob_df = pd.DataFrame(rf_pred_prob_test,columns=['Prob_nd','Prob_default'], index =X_test.index )"
   ]
  },
  {
   "cell_type": "code",
   "execution_count": 23,
   "metadata": {},
   "outputs": [],
   "source": [
    "Result_df = X_test.copy()\n",
    "Result_df['Result'] = rf_pred_test\n",
    "Result_df = pd.merge(Result_df, prob_df, left_index=True, right_index=True)"
   ]
  },
  {
   "cell_type": "code",
   "execution_count": 24,
   "metadata": {},
   "outputs": [],
   "source": [
    "Result_df=Result_df.loc[Result_df['Result']==0]"
   ]
  },
  {
   "cell_type": "code",
   "execution_count": 25,
   "metadata": {},
   "outputs": [
    {
     "data": {
      "text/html": [
       "<div>\n",
       "<style scoped>\n",
       "    .dataframe tbody tr th:only-of-type {\n",
       "        vertical-align: middle;\n",
       "    }\n",
       "\n",
       "    .dataframe tbody tr th {\n",
       "        vertical-align: top;\n",
       "    }\n",
       "\n",
       "    .dataframe thead th {\n",
       "        text-align: right;\n",
       "    }\n",
       "</style>\n",
       "<table border=\"1\" class=\"dataframe\">\n",
       "  <thead>\n",
       "    <tr style=\"text-align: right;\">\n",
       "      <th></th>\n",
       "      <th>LIMIT_BAL</th>\n",
       "      <th>SEX</th>\n",
       "      <th>EDUCATION</th>\n",
       "      <th>MARRIAGE</th>\n",
       "      <th>AGE</th>\n",
       "      <th>PAY_0</th>\n",
       "      <th>PAY_2</th>\n",
       "      <th>PAY_3</th>\n",
       "      <th>PAY_4</th>\n",
       "      <th>PAY_5</th>\n",
       "      <th>...</th>\n",
       "      <th>BILL_AMT6</th>\n",
       "      <th>PAY_AMT1</th>\n",
       "      <th>PAY_AMT2</th>\n",
       "      <th>PAY_AMT3</th>\n",
       "      <th>PAY_AMT4</th>\n",
       "      <th>PAY_AMT5</th>\n",
       "      <th>PAY_AMT6</th>\n",
       "      <th>Result</th>\n",
       "      <th>Prob_nd</th>\n",
       "      <th>Prob_default</th>\n",
       "    </tr>\n",
       "  </thead>\n",
       "  <tbody>\n",
       "    <tr>\n",
       "      <th>43</th>\n",
       "      <td>140000.0</td>\n",
       "      <td>2</td>\n",
       "      <td>2</td>\n",
       "      <td>1</td>\n",
       "      <td>37</td>\n",
       "      <td>0</td>\n",
       "      <td>0</td>\n",
       "      <td>0</td>\n",
       "      <td>0</td>\n",
       "      <td>0</td>\n",
       "      <td>...</td>\n",
       "      <td>0.498586</td>\n",
       "      <td>0.021429</td>\n",
       "      <td>0.021429</td>\n",
       "      <td>0.021429</td>\n",
       "      <td>0.028571</td>\n",
       "      <td>0.028571</td>\n",
       "      <td>0.021429</td>\n",
       "      <td>0</td>\n",
       "      <td>0.765800</td>\n",
       "      <td>0.234200</td>\n",
       "    </tr>\n",
       "    <tr>\n",
       "      <th>12536</th>\n",
       "      <td>150000.0</td>\n",
       "      <td>2</td>\n",
       "      <td>3</td>\n",
       "      <td>1</td>\n",
       "      <td>24</td>\n",
       "      <td>-2</td>\n",
       "      <td>-2</td>\n",
       "      <td>-2</td>\n",
       "      <td>-2</td>\n",
       "      <td>-2</td>\n",
       "      <td>...</td>\n",
       "      <td>0.006493</td>\n",
       "      <td>0.011133</td>\n",
       "      <td>0.028867</td>\n",
       "      <td>0.053600</td>\n",
       "      <td>0.010033</td>\n",
       "      <td>0.006493</td>\n",
       "      <td>0.000000</td>\n",
       "      <td>0</td>\n",
       "      <td>0.771869</td>\n",
       "      <td>0.228131</td>\n",
       "    </tr>\n",
       "    <tr>\n",
       "      <th>14083</th>\n",
       "      <td>600000.0</td>\n",
       "      <td>1</td>\n",
       "      <td>2</td>\n",
       "      <td>1</td>\n",
       "      <td>50</td>\n",
       "      <td>0</td>\n",
       "      <td>0</td>\n",
       "      <td>0</td>\n",
       "      <td>0</td>\n",
       "      <td>0</td>\n",
       "      <td>...</td>\n",
       "      <td>0.418285</td>\n",
       "      <td>0.014622</td>\n",
       "      <td>0.017602</td>\n",
       "      <td>0.014382</td>\n",
       "      <td>0.014890</td>\n",
       "      <td>0.014973</td>\n",
       "      <td>0.015510</td>\n",
       "      <td>0</td>\n",
       "      <td>0.795260</td>\n",
       "      <td>0.204740</td>\n",
       "    </tr>\n",
       "    <tr>\n",
       "      <th>4651</th>\n",
       "      <td>330000.0</td>\n",
       "      <td>2</td>\n",
       "      <td>1</td>\n",
       "      <td>2</td>\n",
       "      <td>44</td>\n",
       "      <td>0</td>\n",
       "      <td>0</td>\n",
       "      <td>2</td>\n",
       "      <td>0</td>\n",
       "      <td>0</td>\n",
       "      <td>...</td>\n",
       "      <td>0.812561</td>\n",
       "      <td>0.064848</td>\n",
       "      <td>0.000000</td>\n",
       "      <td>0.028485</td>\n",
       "      <td>0.028915</td>\n",
       "      <td>0.029594</td>\n",
       "      <td>0.029655</td>\n",
       "      <td>0</td>\n",
       "      <td>0.539177</td>\n",
       "      <td>0.460823</td>\n",
       "    </tr>\n",
       "    <tr>\n",
       "      <th>9277</th>\n",
       "      <td>160000.0</td>\n",
       "      <td>1</td>\n",
       "      <td>1</td>\n",
       "      <td>2</td>\n",
       "      <td>31</td>\n",
       "      <td>-1</td>\n",
       "      <td>-1</td>\n",
       "      <td>-1</td>\n",
       "      <td>-1</td>\n",
       "      <td>-1</td>\n",
       "      <td>...</td>\n",
       "      <td>0.012663</td>\n",
       "      <td>0.008444</td>\n",
       "      <td>0.000000</td>\n",
       "      <td>0.017331</td>\n",
       "      <td>0.001344</td>\n",
       "      <td>0.012663</td>\n",
       "      <td>0.000000</td>\n",
       "      <td>0</td>\n",
       "      <td>0.580955</td>\n",
       "      <td>0.419045</td>\n",
       "    </tr>\n",
       "  </tbody>\n",
       "</table>\n",
       "<p>5 rows × 26 columns</p>\n",
       "</div>"
      ],
      "text/plain": [
       "       LIMIT_BAL  SEX  EDUCATION  MARRIAGE  AGE  PAY_0  PAY_2  PAY_3  PAY_4  \\\n",
       "43      140000.0    2          2         1   37      0      0      0      0   \n",
       "12536   150000.0    2          3         1   24     -2     -2     -2     -2   \n",
       "14083   600000.0    1          2         1   50      0      0      0      0   \n",
       "4651    330000.0    2          1         2   44      0      0      2      0   \n",
       "9277    160000.0    1          1         2   31     -1     -1     -1     -1   \n",
       "\n",
       "       PAY_5  ...  BILL_AMT6  PAY_AMT1  PAY_AMT2  PAY_AMT3  PAY_AMT4  \\\n",
       "43         0  ...   0.498586  0.021429  0.021429  0.021429  0.028571   \n",
       "12536     -2  ...   0.006493  0.011133  0.028867  0.053600  0.010033   \n",
       "14083      0  ...   0.418285  0.014622  0.017602  0.014382  0.014890   \n",
       "4651       0  ...   0.812561  0.064848  0.000000  0.028485  0.028915   \n",
       "9277      -1  ...   0.012663  0.008444  0.000000  0.017331  0.001344   \n",
       "\n",
       "       PAY_AMT5  PAY_AMT6  Result   Prob_nd  Prob_default  \n",
       "43     0.028571  0.021429       0  0.765800      0.234200  \n",
       "12536  0.006493  0.000000       0  0.771869      0.228131  \n",
       "14083  0.014973  0.015510       0  0.795260      0.204740  \n",
       "4651   0.029594  0.029655       0  0.539177      0.460823  \n",
       "9277   0.012663  0.000000       0  0.580955      0.419045  \n",
       "\n",
       "[5 rows x 26 columns]"
      ]
     },
     "execution_count": 25,
     "metadata": {},
     "output_type": "execute_result"
    }
   ],
   "source": [
    "Result_df.head()"
   ]
  },
  {
   "cell_type": "markdown",
   "metadata": {},
   "source": [
    "### Calculate Credit Increase Amount"
   ]
  },
  {
   "cell_type": "code",
   "execution_count": 26,
   "metadata": {},
   "outputs": [],
   "source": [
    "Result_df['Total_Bill_Amount'] = Result_df['BILL_AMT6'] * Result_df[\"LIMIT_BAL\"]"
   ]
  },
  {
   "cell_type": "code",
   "execution_count": 27,
   "metadata": {
    "scrolled": true
   },
   "outputs": [],
   "source": [
    "Result_df['Max_tolerance']=Result_df['LIMIT_BAL']*Result_df['Prob_default']\n",
    "Result_df['Actual_tolerance']=Result_df['LIMIT_BAL']*Result_df['Prob_default']*Result_df['BILL_AMT6']\n",
    "Result_df['Credit_Increase']=Result_df['Max_tolerance']-Result_df['Actual_tolerance']"
   ]
  },
  {
   "cell_type": "markdown",
   "metadata": {},
   "source": [
    "### Generate Final List for Credit Increase"
   ]
  },
  {
   "cell_type": "code",
   "execution_count": 28,
   "metadata": {},
   "outputs": [],
   "source": [
    "Result_df_nonneg = Result_df[Result_df.Credit_Increase>0]"
   ]
  },
  {
   "cell_type": "code",
   "execution_count": 29,
   "metadata": {},
   "outputs": [],
   "source": [
    "Result_df_nonneg = Result_df_nonneg.sort_values(by=['Total_Bill_Amount'],ascending=False)\n",
    "Result_df_nonneg= Result_df_nonneg.head(200)\n",
    "Final_list_nonneg = Result_df_nonneg[['Credit_Increase','Total_Bill_Amount','Prob_nd']]"
   ]
  },
  {
   "cell_type": "code",
   "execution_count": 30,
   "metadata": {
    "scrolled": false
   },
   "outputs": [
    {
     "data": {
      "text/html": [
       "<div>\n",
       "<style scoped>\n",
       "    .dataframe tbody tr th:only-of-type {\n",
       "        vertical-align: middle;\n",
       "    }\n",
       "\n",
       "    .dataframe tbody tr th {\n",
       "        vertical-align: top;\n",
       "    }\n",
       "\n",
       "    .dataframe thead th {\n",
       "        text-align: right;\n",
       "    }\n",
       "</style>\n",
       "<table border=\"1\" class=\"dataframe\">\n",
       "  <thead>\n",
       "    <tr style=\"text-align: right;\">\n",
       "      <th></th>\n",
       "      <th>Credit_Increase</th>\n",
       "      <th>Total_Bill_Amount</th>\n",
       "      <th>Prob_nd</th>\n",
       "    </tr>\n",
       "  </thead>\n",
       "  <tbody>\n",
       "    <tr>\n",
       "      <th>5333</th>\n",
       "      <td>21484.142878</td>\n",
       "      <td>511905.0</td>\n",
       "      <td>0.684497</td>\n",
       "    </tr>\n",
       "    <tr>\n",
       "      <th>6</th>\n",
       "      <td>8722.935723</td>\n",
       "      <td>473944.0</td>\n",
       "      <td>0.665224</td>\n",
       "    </tr>\n",
       "    <tr>\n",
       "      <th>15223</th>\n",
       "      <td>27856.650718</td>\n",
       "      <td>392879.0</td>\n",
       "      <td>0.584979</td>\n",
       "    </tr>\n",
       "    <tr>\n",
       "      <th>21087</th>\n",
       "      <td>6842.503001</td>\n",
       "      <td>361201.0</td>\n",
       "      <td>0.636018</td>\n",
       "    </tr>\n",
       "    <tr>\n",
       "      <th>2455</th>\n",
       "      <td>33421.437065</td>\n",
       "      <td>356161.0</td>\n",
       "      <td>0.678142</td>\n",
       "    </tr>\n",
       "    <tr>\n",
       "      <th>...</th>\n",
       "      <td>...</td>\n",
       "      <td>...</td>\n",
       "      <td>...</td>\n",
       "    </tr>\n",
       "    <tr>\n",
       "      <th>12321</th>\n",
       "      <td>39312.202453</td>\n",
       "      <td>106313.0</td>\n",
       "      <td>0.580388</td>\n",
       "    </tr>\n",
       "    <tr>\n",
       "      <th>14203</th>\n",
       "      <td>10214.947733</td>\n",
       "      <td>106280.0</td>\n",
       "      <td>0.697066</td>\n",
       "    </tr>\n",
       "    <tr>\n",
       "      <th>13317</th>\n",
       "      <td>38086.092634</td>\n",
       "      <td>106172.0</td>\n",
       "      <td>0.829842</td>\n",
       "    </tr>\n",
       "    <tr>\n",
       "      <th>14455</th>\n",
       "      <td>11406.442501</td>\n",
       "      <td>103970.0</td>\n",
       "      <td>0.752195</td>\n",
       "    </tr>\n",
       "    <tr>\n",
       "      <th>9536</th>\n",
       "      <td>32091.818790</td>\n",
       "      <td>103799.0</td>\n",
       "      <td>0.764379</td>\n",
       "    </tr>\n",
       "  </tbody>\n",
       "</table>\n",
       "<p>200 rows × 3 columns</p>\n",
       "</div>"
      ],
      "text/plain": [
       "       Credit_Increase  Total_Bill_Amount   Prob_nd\n",
       "5333      21484.142878           511905.0  0.684497\n",
       "6          8722.935723           473944.0  0.665224\n",
       "15223     27856.650718           392879.0  0.584979\n",
       "21087      6842.503001           361201.0  0.636018\n",
       "2455      33421.437065           356161.0  0.678142\n",
       "...                ...                ...       ...\n",
       "12321     39312.202453           106313.0  0.580388\n",
       "14203     10214.947733           106280.0  0.697066\n",
       "13317     38086.092634           106172.0  0.829842\n",
       "14455     11406.442501           103970.0  0.752195\n",
       "9536      32091.818790           103799.0  0.764379\n",
       "\n",
       "[200 rows x 3 columns]"
      ]
     },
     "execution_count": 30,
     "metadata": {},
     "output_type": "execute_result"
    }
   ],
   "source": [
    "Final_list_nonneg"
   ]
  },
  {
   "cell_type": "code",
   "execution_count": 31,
   "metadata": {},
   "outputs": [
    {
     "data": {
      "text/plain": [
       "5631421.78534925"
      ]
     },
     "execution_count": 31,
     "metadata": {},
     "output_type": "execute_result"
    }
   ],
   "source": [
    "sum(Final_list_nonneg.Credit_Increase)"
   ]
  },
  {
   "cell_type": "code",
   "execution_count": 32,
   "metadata": {},
   "outputs": [],
   "source": [
    "Final_list_nonneg_1 = Final_list_nonneg[Final_list_nonneg.Prob_nd>0.4]"
   ]
  },
  {
   "cell_type": "code",
   "execution_count": 33,
   "metadata": {},
   "outputs": [],
   "source": [
    "assert(len(Final_list_nonneg_1)==200)"
   ]
  }
 ],
 "metadata": {
  "kernelspec": {
   "display_name": "Python 3",
   "language": "python",
   "name": "python3"
  },
  "language_info": {
   "codemirror_mode": {
    "name": "ipython",
    "version": 3
   },
   "file_extension": ".py",
   "mimetype": "text/x-python",
   "name": "python",
   "nbconvert_exporter": "python",
   "pygments_lexer": "ipython3",
   "version": "3.7.0"
  }
 },
 "nbformat": 4,
 "nbformat_minor": 2
}
